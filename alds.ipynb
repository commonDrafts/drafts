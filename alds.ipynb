{
 "cells": [
  {
   "cell_type": "code",
   "execution_count": 206,
   "metadata": {},
   "outputs": [],
   "source": [
    "# классовая обертка для list в python\n",
    "# с высокоуровневым интерфейсом\n",
    "\n",
    "class HighArray:\n",
    "    def __init__(self, length):\n",
    "        self.length = length\n",
    "        self.notNoneLength = 0\n",
    "        self.data = [None for i in range(length)]\n",
    "        \n",
    "    def findKey(self, searchKey):\n",
    "        idx = None\n",
    "        for idx, elem in enumerate(self.data):\n",
    "            if idx == searchKey:\n",
    "                break\n",
    "        if idx == (self.length - 1) and idx != searchKey:\n",
    "            return False\n",
    "        else:\n",
    "            return True\n",
    "        \n",
    "    def insert(self, value):\n",
    "        if self.notNoneLength < self.length:\n",
    "            self.data[self.notNoneLength] = value\n",
    "            self.notNoneLength += 1\n",
    "        else:\n",
    "            print(\"больше вставить нельзя: кол-во элементов = длине массива\")\n",
    "            \n",
    "    def delete(self, value):\n",
    "        idx = None\n",
    "        for idx, elem in enumerate(self.data):\n",
    "            if value == elem:\n",
    "                break\n",
    "        if idx == (self.length - 1) and value != self.data[idx]:\n",
    "            print(\"такого значения в массиве нет\")\n",
    "        else:\n",
    "            for idx in range(idx, self.length - 1):\n",
    "                self.data[idx] = self.data[idx + 1]\n",
    "            self.length -= 1\n",
    "            self.notNoneLength -= 1\n",
    "            self.data = self.data[:-1]\n",
    "            print(\"Элемент {} удален\".format(value))\n",
    "    \n",
    "    def display(self):\n",
    "        print(self.data)"
   ]
  },
  {
   "cell_type": "code",
   "execution_count": 208,
   "metadata": {},
   "outputs": [
    {
     "name": "stdout",
     "output_type": "stream",
     "text": [
      "[None, None, None, None, None, None, None, None, None, None]\n",
      "[5, 9, 1, 2, 7, None, None, None, None, None]\n",
      "Элемент 7 удален\n",
      "[5, 9, 1, 2, None, None, None, None, None]\n"
     ]
    }
   ],
   "source": [
    "array = HighArray(10)\n",
    "array.display()\n",
    "\n",
    "array.insert(5)\n",
    "array.insert(9)\n",
    "array.insert(1)\n",
    "array.insert(2)\n",
    "array.insert(7)\n",
    "array.display()\n",
    "\n",
    "array.delete(7)\n",
    "array.display()"
   ]
  },
  {
   "cell_type": "code",
   "execution_count": 106,
   "metadata": {},
   "outputs": [],
   "source": [
    "# бинарный поиск\n",
    "\n",
    "def binarySearch(data, searchValue):\n",
    "    lowerBound = 0\n",
    "    upperBound = len(data) - 1\n",
    "    curIdx = None\n",
    "    \n",
    "    while True:\n",
    "        curIdx = (lowerBound + upperBound)//2\n",
    "        if data[curIdx] == searchValue:\n",
    "            return curIdx\n",
    "        elif lowerBound > upperBound:\n",
    "            return False\n",
    "        else:\n",
    "            if data[curIdx] < searchValue:\n",
    "                lowerBound = curIdx + 1\n",
    "            else:\n",
    "                upperBound = curIdx - 1"
   ]
  },
  {
   "cell_type": "code",
   "execution_count": 412,
   "metadata": {},
   "outputs": [
    {
     "data": {
      "text/plain": [
       "122"
      ]
     },
     "execution_count": 412,
     "metadata": {},
     "output_type": "execute_result"
    }
   ],
   "source": [
    "data = [1,2,3,4,5,6,7,8,9,100,122,434,4556,78899]\n",
    "data[binarySearch(data, 122)]"
   ]
  },
  {
   "cell_type": "code",
   "execution_count": 200,
   "metadata": {},
   "outputs": [],
   "source": [
    "# классовая обертка для упорядоченного list в python\n",
    "# с высокоуровневым интерфейсом\n",
    "\n",
    "class OrdArray:\n",
    "    def __init__(self, length):\n",
    "        self.length = length\n",
    "        self.notNoneLength = 0\n",
    "        self.data = [None for i in range(length)]\n",
    "        \n",
    "    def size(self):\n",
    "        return self.length\n",
    "    def notNoneSize(self):\n",
    "        return self.notNoneLength\n",
    "    \n",
    "    def find(self, searchValue):\n",
    "        if self.notNoneLength:\n",
    "            lowerBound = 0\n",
    "            upperBound = self.notNoneLength - 1\n",
    "            curIdx = None\n",
    "            \n",
    "            while True:\n",
    "                curIdx = (lowerBound + upperBound)//2\n",
    "                if self.data[curIdx] == searchValue:\n",
    "                    return curIdx\n",
    "                elif lowerBound > upperBound:\n",
    "                    print(\"Элемент не найден\")\n",
    "                else:\n",
    "                    if self.data[curIdx] < searchValue:\n",
    "                        lowerBound = curIdx + 1\n",
    "                    else:\n",
    "                        upperBound = curIdx - 1\n",
    "    \n",
    "    def insert(self, value):\n",
    "        if self.notNoneLength == 0:\n",
    "            self.data[self.notNoneLength] = value\n",
    "            self.notNoneLength += 1\n",
    "            return\n",
    "        if self.data[self.notNoneLength - 1] < value:\n",
    "            self.data[self.notNoneLength] = value\n",
    "            self.notNoneLength += 1\n",
    "            return\n",
    "        idx = 0\n",
    "        for idx in range(0, self.notNoneLength):\n",
    "            if self.data[idx] > value:\n",
    "                break\n",
    "        for i in reversed(range(idx, self.notNoneLength + 1)):\n",
    "            self.data[i] = self.data[i - 1]\n",
    "        self.data[idx] = value\n",
    "        self.notNoneLength += 1\n",
    "            \n",
    "    def delete(self, value):\n",
    "        idx = None\n",
    "        for idx, elem in enumerate(self.data):\n",
    "            if value == elem:\n",
    "                break\n",
    "        if idx == (self.length - 1) and value != self.data[idx]:\n",
    "            print(\"такого значения в массиве нет\")\n",
    "        else:\n",
    "            for idx in range(idx, self.length - 1):\n",
    "                self.data[idx] = self.data[idx + 1]\n",
    "            self.length -= 1\n",
    "            self.notNoneLength -= 1\n",
    "            self.data = self.data[:-1]\n",
    "            print(\"Элемент {} удален\".format(value))\n",
    "    \n",
    "    def display(self):\n",
    "        print(self.data)\n",
    "    "
   ]
  },
  {
   "cell_type": "code",
   "execution_count": 205,
   "metadata": {},
   "outputs": [
    {
     "name": "stdout",
     "output_type": "stream",
     "text": [
      "10\n",
      "0\n",
      "[None, None, None, None, None, None, None, None, None, None]\n",
      "[1, 2, 5, 7, 9, None, None, None, None, None]\n",
      "Элемент 7 удален\n",
      "[1, 2, 5, 9, None, None, None, None, None]\n"
     ]
    }
   ],
   "source": [
    "ordarray = OrdArray(10)\n",
    "print(ordarray.size())\n",
    "print(ordarray.notNoneSize())\n",
    "ordarray.display()\n",
    "\n",
    "ordarray.insert(5)\n",
    "ordarray.insert(9)\n",
    "ordarray.insert(1)\n",
    "ordarray.insert(2)\n",
    "ordarray.insert(7)\n",
    "ordarray.display()\n",
    "\n",
    "ordarray.delete(7)\n",
    "ordarray.display()"
   ]
  },
  {
   "cell_type": "code",
   "execution_count": 221,
   "metadata": {},
   "outputs": [],
   "source": [
    "def bubbleSort(data):\n",
    "    for out in reversed(range(0,len(data))):\n",
    "        for i in range(0, out):\n",
    "            if data[i] > data[i + 1]:\n",
    "                data[i + 1], data[i] = data[i], data[i + 1]"
   ]
  },
  {
   "cell_type": "code",
   "execution_count": 222,
   "metadata": {},
   "outputs": [
    {
     "name": "stdout",
     "output_type": "stream",
     "text": [
      "[2, 3, 3, 5, 5, 6, 23, 43, 466, 2345, 5324, 52345]\n"
     ]
    }
   ],
   "source": [
    "data = [5324,52345,23,2345,2,3,5,6,3,466,43,5]\n",
    "bubbleSort(data)\n",
    "print(data)"
   ]
  },
  {
   "cell_type": "code",
   "execution_count": 257,
   "metadata": {},
   "outputs": [],
   "source": [
    "def selectionSort_2(data):\n",
    "    minElement = None\n",
    "    numberOfElements = len(data) - 1\n",
    "    for out in reversed(range(0, len(data))):\n",
    "        minElement = numberOfElements - out\n",
    "        for i in range(numberOfElements - out, len(data)):\n",
    "            if data[minElement] > data[i]:\n",
    "                minElement = i\n",
    "        data[numberOfElements - out], data[minElement] = data[minElement], data[numberOfElements - out]       \n",
    "\n",
    "def selectionSort(data):\n",
    "    minElement = None\n",
    "    for out in range(0,len(data)):\n",
    "        minElement = out\n",
    "        for i in range(out,len(data)):\n",
    "            if data[minElement] > data[i]:\n",
    "                minElement = i\n",
    "        data[out], data[minElement] = data[minElement], data[out]\n",
    "        "
   ]
  },
  {
   "cell_type": "code",
   "execution_count": 258,
   "metadata": {},
   "outputs": [
    {
     "name": "stdout",
     "output_type": "stream",
     "text": [
      "[2, 3, 3, 5, 5, 6, 23, 43, 466, 2345, 5324, 52345]\n",
      "[2, 3, 3, 5, 5, 6, 23, 43, 466, 2345, 5324, 52345]\n"
     ]
    }
   ],
   "source": [
    "data = [5324,52345,23,2345,2,3,5,6,3,466,43,5]\n",
    "selectionSort(data)\n",
    "print(data)\n",
    "data = [5324,52345,23,2345,2,3,5,6,3,466,43,5]\n",
    "selectionSort_2(data)\n",
    "print(data)"
   ]
  },
  {
   "cell_type": "code",
   "execution_count": 287,
   "metadata": {},
   "outputs": [],
   "source": [
    "def insertionSort(data):\n",
    "    temp = None\n",
    "    for out in range(1,len(data)):\n",
    "        temp = data[out]\n",
    "        for i in range(0,out):\n",
    "            if data[i] > temp:\n",
    "                for idx in reversed(range(i + 1,out + 1)):\n",
    "                    data[idx] = data[idx - 1]\n",
    "                data[i] = temp\n",
    "                break"
   ]
  },
  {
   "cell_type": "code",
   "execution_count": 288,
   "metadata": {},
   "outputs": [
    {
     "name": "stdout",
     "output_type": "stream",
     "text": [
      "[2, 3, 3, 5, 5, 6, 23, 43, 466, 2345, 5324, 52345]\n"
     ]
    }
   ],
   "source": [
    "data = [5324,52345,23,2345,2,3,5,6,3,466,43,5]\n",
    "insertionSort(data)\n",
    "print(data)"
   ]
  },
  {
   "cell_type": "code",
   "execution_count": 344,
   "metadata": {},
   "outputs": [],
   "source": [
    "# реализация стека с фиксированной длиной\n",
    "\n",
    "class StackX:\n",
    "    def __init__(self, length):\n",
    "        self.length = length\n",
    "        self.stackArray = [None for i in range(0, length)]\n",
    "        self.top = -1\n",
    "        \n",
    "    def push(self, element):\n",
    "        if not(self.isFull()):\n",
    "            self.top += 1\n",
    "            self.stackArray[self.top] = element\n",
    "        else:\n",
    "            print(\"добавлено максимальное кол-во элементов\")\n",
    "        \n",
    "    def pop(self):\n",
    "        temp = self.stackArray[self.top]\n",
    "        del self.stackArray[self.top]\n",
    "        self.top -= 1\n",
    "        return temp\n",
    "\n",
    "    def peek(self):\n",
    "        return self.stackArray[self.top]\n",
    "    \n",
    "    def isEmpty(self):\n",
    "        return (self.top != -1)\n",
    "    \n",
    "    def isFull(self):\n",
    "        return (self.top + 1) == self.length\n",
    "    \n",
    "    def display(self):\n",
    "        for i in reversed(range(0, self.top + 1)):\n",
    "            print(self.stackArray[i])"
   ]
  },
  {
   "cell_type": "code",
   "execution_count": 345,
   "metadata": {},
   "outputs": [
    {
     "name": "stdout",
     "output_type": "stream",
     "text": [
      "добавлено максимальное кол-во элементов\n",
      "тестовый просмотр: 10\n",
      "вывод стека:\n",
      "10\n",
      "550\n",
      "26\n",
      "27\n",
      "2888\n",
      "297\n",
      "23124\n",
      "2213\n",
      "20\n",
      "30\n",
      "конце вывода стека\n",
      "True\n",
      "10\n",
      "550\n",
      "26\n",
      "27\n",
      "2888\n",
      "297\n",
      "23124\n",
      "2213\n",
      "20\n",
      "30\n",
      "False\n"
     ]
    }
   ],
   "source": [
    "theStack = StackX(10)\n",
    "theStack.push(30)\n",
    "theStack.push(20)\n",
    "theStack.push(2213)\n",
    "theStack.push(23124)\n",
    "theStack.push(297)\n",
    "theStack.push(2888)\n",
    "theStack.push(27)\n",
    "theStack.push(26)\n",
    "theStack.push(550)\n",
    "theStack.push(10)\n",
    "# 11:\n",
    "theStack.push(20)\n",
    "\n",
    "testValue = theStack.peek()\n",
    "print(\"тестовый просмотр:\", testValue)\n",
    "\n",
    "print(\"вывод стека:\")\n",
    "theStack.display()\n",
    "print(\"конце вывода стека\")\n",
    "\n",
    "print(theStack.isFull())\n",
    "while theStack.isEmpty():\n",
    "    value = theStack.pop()\n",
    "    print(value)\n",
    "    \n",
    "print(theStack.isFull())"
   ]
  },
  {
   "cell_type": "code",
   "execution_count": 356,
   "metadata": {},
   "outputs": [],
   "source": [
    "# реализация класса очереди\n",
    "\n",
    "class Queue():\n",
    "    def __init__(self, length):\n",
    "        self.length = length\n",
    "        self.queueArray = [None for i in range(0, length)]\n",
    "        self.front = 0\n",
    "        self.rear = -1\n",
    "        self.notNoneItems = 0\n",
    "        \n",
    "    def insert(self, element):\n",
    "        if self.rear == (self.length - 1):\n",
    "            self.rear = -1\n",
    "        self.rear += 1\n",
    "        self.queueArray[self.rear] = element\n",
    "        self.notNoneItems += 1\n",
    "        \n",
    "    def remove(self):\n",
    "        temp = self.queueArray[self.front]\n",
    "        self.queueArray[self.front] = None\n",
    "        self.front += 1\n",
    "        if self.front == self.length:\n",
    "            self.front = 0\n",
    "        self.notNoneItems -= 1\n",
    "        return temp\n",
    "    \n",
    "    def peekFront(self):\n",
    "        return self.queueArray[self.front]\n",
    "\n",
    "    def isEmpty(self):\n",
    "        return (self.notNoneItems == 0)\n",
    "    \n",
    "    def isFull(self):\n",
    "        return self.notNoneItems == self.length\n",
    "        "
   ]
  },
  {
   "cell_type": "code",
   "execution_count": 370,
   "metadata": {},
   "outputs": [
    {
     "name": "stdout",
     "output_type": "stream",
     "text": [
      "[30, 23, 5234, 52345, None, None, None, None, None, None]\n",
      "[None, None, 5234, 52345, None, None, None, None, None, None]\n",
      "[None, None, 5234, 52345, 5777, 528889, None, None, None, None]\n",
      "[None, None, None, None, 5777, 528889, None, None, None, None]\n",
      "[56534677, 56, None, None, 5777, 528889, 777, 8889, 477, 54]\n",
      "5777\n",
      "528889\n",
      "777\n",
      "8889\n",
      "477\n",
      "54\n",
      "56534677\n",
      "56\n",
      "False\n",
      "[None, None, None, None, None, None, None, None, None, None]\n"
     ]
    }
   ],
   "source": [
    "theQueue = Queue(10)\n",
    "\n",
    "theQueue.insert(30)\n",
    "theQueue.insert(23)\n",
    "theQueue.insert(5234)\n",
    "theQueue.insert(52345)\n",
    "print(theQueue.queueArray)\n",
    "\n",
    "theQueue.remove()\n",
    "theQueue.remove()\n",
    "print(theQueue.queueArray)\n",
    "\n",
    "theQueue.insert(5777)\n",
    "theQueue.insert(528889)\n",
    "print(theQueue.queueArray)\n",
    "\n",
    "theQueue.remove()\n",
    "theQueue.remove()\n",
    "print(theQueue.queueArray)\n",
    "\n",
    "theQueue.insert(777)\n",
    "theQueue.insert(8889)\n",
    "theQueue.insert(477)\n",
    "theQueue.insert(54)\n",
    "theQueue.insert(56534677)\n",
    "theQueue.insert(56)\n",
    "print(theQueue.queueArray)\n",
    "\n",
    "while not(theQueue.isEmpty()):\n",
    "    print(theQueue.remove())\n",
    "    \n",
    "print(theStack.isFull())\n",
    "print(theQueue.queueArray)"
   ]
  },
  {
   "cell_type": "code",
   "execution_count": 402,
   "metadata": {},
   "outputs": [],
   "source": [
    "# связные списки\n",
    "\n",
    "class Link():\n",
    "    def __init__(self, data):\n",
    "        self.data = data\n",
    "        self.next = None\n",
    "        \n",
    "    def displayLink(self):\n",
    "        print(self.data)\n",
    "        \n",
    "class LinkList():\n",
    "    def __init__(self):\n",
    "        self.first = None\n",
    "        \n",
    "    def isEmpty(self):\n",
    "        return (self.first == None)\n",
    "    \n",
    "    def insertFirst(self, data):\n",
    "        newLink = Link(data)\n",
    "        newLink.next = self.first\n",
    "        self.first = newLink\n",
    "        \n",
    "    def deleteFirst(self):\n",
    "        temp = self.first\n",
    "        self.first = self.first.next\n",
    "        return temp\n",
    "    \n",
    "    def displayList(self):\n",
    "        print(\"Список (первый -> последний):\")\n",
    "        curLink = self.first\n",
    "        while curLink != None:\n",
    "            curLink.displayLink()\n",
    "            curLink = curLink.next\n",
    "            \n",
    "    def find(self, key):\n",
    "        curLink = self.first\n",
    "        while (curLink.data != key):\n",
    "            if curLink.next == None:\n",
    "                return None\n",
    "            curLink = curLink.next\n",
    "        return curLink\n",
    "    \n",
    "    def delete(self, key):\n",
    "        curLink = self.first\n",
    "        previousLink = self.first\n",
    "        while (curLink.data != key):\n",
    "            if curLink.next == None:\n",
    "                return None\n",
    "            else:\n",
    "                previousLink = curLink\n",
    "                curLink = curLink.next\n",
    "        if curLink == self.first:\n",
    "            self.first = self.first.next\n",
    "        else:\n",
    "            previousLink.next = curLink.next\n",
    "        return curLink\n",
    "                "
   ]
  },
  {
   "cell_type": "code",
   "execution_count": 404,
   "metadata": {},
   "outputs": [
    {
     "name": "stdout",
     "output_type": "stream",
     "text": [
      "Список (первый -> последний):\n",
      "88\n",
      "66\n",
      "44\n",
      "22\n",
      "найдено!:  44\n",
      "удалено!:  66\n",
      "отчистка списка:\n",
      "88\n",
      "44\n",
      "22\n",
      "Список (первый -> последний):\n"
     ]
    }
   ],
   "source": [
    "theList = LinkList()\n",
    "\n",
    "theList.insertFirst(22)\n",
    "theList.insertFirst(44)\n",
    "theList.insertFirst(66)\n",
    "theList.insertFirst(88)\n",
    "\n",
    "theList.displayList()\n",
    "\n",
    "f = theList.find(44)\n",
    "print(\"найдено!: \", f.data)\n",
    "\n",
    "d = theList.delete(66)\n",
    "print(\"удалено!: \", d.data)\n",
    "\n",
    "print(\"отчистка списка:\")\n",
    "while not(theList.isEmpty()):\n",
    "    temp = theList.deleteFirst()\n",
    "    temp.displayLink()\n",
    "theList.displayList()"
   ]
  },
  {
   "cell_type": "code",
   "execution_count": 405,
   "metadata": {},
   "outputs": [],
   "source": [
    "def recBinarySearch(data, key, lowerBound, upperBound):\n",
    "    curIdx = (lowerBound + upperBound) // 2\n",
    "    if data[curIdx] == key:\n",
    "        return curIdx\n",
    "    elif lowerBound > upperBound:\n",
    "        return None\n",
    "    else:\n",
    "        if data[curIdx] < key:\n",
    "            return recBinarySearch(data, key, curIdx + 1, upperBound)\n",
    "        else:\n",
    "            return recBinarySearch(data, key, lowerBound, curIdx - 1)"
   ]
  },
  {
   "cell_type": "code",
   "execution_count": 411,
   "metadata": {},
   "outputs": [
    {
     "data": {
      "text/plain": [
       "122"
      ]
     },
     "execution_count": 411,
     "metadata": {},
     "output_type": "execute_result"
    }
   ],
   "source": [
    "data = [1,2,3,4,5,6,7,8,9,100,122,434,4556,78899]\n",
    "data[recBinarySearch(data, 122, 0, len(data) - 1)]"
   ]
  },
  {
   "cell_type": "code",
   "execution_count": 11,
   "metadata": {},
   "outputs": [],
   "source": [
    "# реализация сортировки слиянием на базе объекта-массива\n",
    "\n",
    "class DArray():\n",
    "    def __init__(self, data):\n",
    "        self.data = data\n",
    "        \n",
    "    def startMergeSort(self):\n",
    "        workSpace = [None for i in range(0, len(self.data))]\n",
    "        self.recMergeSort(workSpace, 0, len(self.data) - 1)\n",
    "        \n",
    "    def recMergeSort(self, workSpace, lowerBound, upperBound):  \n",
    "        if lowerBound == upperBound:\n",
    "            return\n",
    "        else:\n",
    "            mid = (lowerBound + upperBound) // 2\n",
    "            self.recMergeSort(workSpace, lowerBound, mid)\n",
    "            self.recMergeSort(workSpace, mid + 1, upperBound)\n",
    "            self.merge(workSpace, lowerBound, mid + 1, upperBound) \n",
    "            \n",
    "    def merge(self, workSpace, lowPtr, highPtr, upperBound):\n",
    "        idx = 0 \n",
    "        lowerBound = lowPtr\n",
    "        mid = highPtr - 1\n",
    "        n = upperBound - lowerBound + 1\n",
    "        \n",
    "        while (lowPtr <= mid and highPtr <= upperBound):\n",
    "            if self.data[lowPtr] < self.data[highPtr]:\n",
    "                workSpace[idx] = self.data[lowPtr]\n",
    "                idx += 1\n",
    "                lowPtr += 1\n",
    "            else:\n",
    "                workSpace[idx] = self.data[highPtr]\n",
    "                idx += 1\n",
    "                highPtr += 1\n",
    "        \n",
    "        while lowPtr <= mid:\n",
    "            workSpace[idx] = self.data[lowPtr]\n",
    "            idx += 1\n",
    "            lowPtr += 1\n",
    "            \n",
    "        while highPtr <= upperBound:\n",
    "            workSpace[idx] = self.data[highPtr]\n",
    "            idx += 1\n",
    "            highPtr += 1 \n",
    "            \n",
    "        for i in range(0, n):\n",
    "            self.data[lowerBound + i] = workSpace[i]"
   ]
  },
  {
   "cell_type": "code",
   "execution_count": 12,
   "metadata": {},
   "outputs": [
    {
     "name": "stdout",
     "output_type": "stream",
     "text": [
      "[5324, 52345, 23, 234, 7, 52356, 6236, 345, 53, 63, 72357, 2357]\n",
      "[7, 23, 53, 63, 234, 345, 2357, 5324, 6236, 52345, 52356, 72357]\n"
     ]
    }
   ],
   "source": [
    "data = [5324,52345,23,234,7,52356,6236,345,53,63,72357,2357]\n",
    "array = DArray(data)\n",
    "print(array.data)\n",
    "array.startMergeSort()\n",
    "print(array.data)"
   ]
  },
  {
   "cell_type": "code",
   "execution_count": 3,
   "metadata": {},
   "outputs": [],
   "source": [
    "# реализация сортировки Шелла\n",
    "\n",
    "def shellSort(data):\n",
    "    h = 1\n",
    "    while h <= len(data):\n",
    "        h = h * 3 + 1\n",
    "    \n",
    "    while h > 0:\n",
    "        for outer in range(int(h), len(data)):\n",
    "            temp = data[outer]\n",
    "            inner = outer\n",
    "            while inner > (int(h) - 1) and data[inner - int(h)] >= temp:\n",
    "                data[inner] = data[inner - int(h)]\n",
    "                inner = int(inner - h)\n",
    "            data[inner] = temp\n",
    "        h = (h - 1) / 3"
   ]
  },
  {
   "cell_type": "code",
   "execution_count": 4,
   "metadata": {},
   "outputs": [
    {
     "name": "stdout",
     "output_type": "stream",
     "text": [
      "13\n",
      "4.0\n",
      "4\n",
      "5\n",
      "6\n",
      "7\n",
      "8\n",
      "9\n",
      "10\n",
      "11\n",
      "1.0\n",
      "1\n",
      "2\n",
      "3\n",
      "4\n",
      "5\n",
      "6\n",
      "7\n",
      "8\n",
      "9\n",
      "10\n",
      "11\n",
      "[7, 23, 53, 63, 234, 345, 2357, 5324, 6236, 52345, 52356, 72357]\n"
     ]
    }
   ],
   "source": [
    "data = [5324,52345,23,234,7,52356,6236,345,53,63,72357,2357]\n",
    "shellSort(data)\n",
    "print(data)"
   ]
  },
  {
   "cell_type": "code",
   "execution_count": 40,
   "metadata": {},
   "outputs": [],
   "source": [
    "# разбиение и быстрая сортировка\n",
    "\n",
    "def recQuickSort(data, left, right):\n",
    "    if right - left <= 0:\n",
    "        return\n",
    "    else:\n",
    "        pivot = data[right]\n",
    "        partition = partitionIt(data, left, right, pivot)\n",
    "        recQuickSort(data, left, partition - 1)\n",
    "        recQuickSort(data, partition + 1, right)\n",
    "        \n",
    "def partitionIt(data, left, right, pivot):\n",
    "    leftPtr = left\n",
    "    rightPtr = right - 1\n",
    "    while True:\n",
    "        while data[leftPtr] < pivot:\n",
    "            leftPtr += 1\n",
    "        while rightPtr >0 and data[rightPtr] > pivot:\n",
    "            rightPtr -= 1\n",
    "        if leftPtr >= rightPtr:\n",
    "            break\n",
    "        else:\n",
    "            data[leftPtr], data[rightPtr] = data[rightPtr], data[leftPtr]\n",
    "    data[leftPtr], data[right] = data[right], data[leftPtr]\n",
    "    return leftPtr"
   ]
  },
  {
   "cell_type": "code",
   "execution_count": 41,
   "metadata": {},
   "outputs": [
    {
     "name": "stdout",
     "output_type": "stream",
     "text": [
      "[7, 23, 53, 63, 234, 345, 2357, 5324, 6236, 52345, 52356, 72357]\n"
     ]
    }
   ],
   "source": [
    "data = [5324,52345,23,234,7,52356,6236,345,53,63,72357,2357]\n",
    "recQuickSort(data, 0, len(data) - 1)\n",
    "print(data)"
   ]
  }
 ],
 "metadata": {
  "kernelspec": {
   "display_name": "Python 3",
   "language": "python",
   "name": "python3"
  },
  "language_info": {
   "codemirror_mode": {
    "name": "ipython",
    "version": 3
   },
   "file_extension": ".py",
   "mimetype": "text/x-python",
   "name": "python",
   "nbconvert_exporter": "python",
   "pygments_lexer": "ipython3",
   "version": "3.7.2"
  }
 },
 "nbformat": 4,
 "nbformat_minor": 2
}
